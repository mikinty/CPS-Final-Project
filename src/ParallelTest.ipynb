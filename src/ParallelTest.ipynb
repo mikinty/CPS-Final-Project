{
 "cells": [
  {
   "cell_type": "code",
   "execution_count": 1,
   "metadata": {
    "collapsed": true
   },
   "outputs": [],
   "source": [
    "from CONSTANTS_MAIN import NUMBER_OF_PERIODS, NUM_WORLD_STATES, NUM_TRAIN_ITER\n",
    "from schedEvaluate import schedulerEvaluate\n",
    "from RL.schedImprove import schedulerImprove\n",
    "\n",
    "import pickle\n",
    "\n",
    "SCHEDULER_FILE = './schedulers/scheduler1.pickle'\n"
   ]
  },
  {
   "cell_type": "code",
   "execution_count": 3,
   "metadata": {
    "collapsed": false
   },
   "outputs": [
    {
     "name": "stdout",
     "output_type": "stream",
     "text": [
      "[[ 0.17224405  0.          0.82775595  0.        ]\n",
      " [ 0.14602418  0.50230566  0.026908    0.32476217]\n",
      " [ 0.14510703  0.02757201  0.74055114  0.08676983]\n",
      " [ 0.          0.17201816  0.          0.82798184]]\n"
     ]
    }
   ],
   "source": [
    "# Load scheduler file\n",
    "pickle_in = open(SCHEDULER_FILE, 'rb')\n",
    "scheduler = pickle.load(pickle_in)\n",
    "pickle_in.close()\n",
    "\n",
    "print(scheduler)\n"
   ]
  },
  {
   "cell_type": "code",
   "execution_count": 4,
   "metadata": {
    "collapsed": true
   },
   "outputs": [],
   "source": [
    "\n",
    "from CONSTANTS_MAIN import NUMBER_OF_PERIODS, SUCCESS_THRESHOLD\n",
    "from RL.CONSTANTS_RL import SCHEDULER_TRAIN_ITER, NUM_WORLD_STATES\n",
    "\n",
    "from numpy import array, zeros, random, divide, zeros\n",
    "import multiprocessing as mp\n",
    "from functools import partial\n",
    "\n",
    "from simulation import simulate_driver\n"
   ]
  },
  {
   "cell_type": "code",
   "execution_count": 5,
   "metadata": {
    "collapsed": true
   },
   "outputs": [],
   "source": [
    "# Per thread call to orun a single simulation iteration\n",
    "def callSimulation(i):\n",
    "    global tempSched \n",
    "\n",
    "    # generate moves\n",
    "    moves = [random.randint(NUM_WORLD_STATES)]\n",
    "    for i in range(NUMBER_OF_PERIODS - 1):\n",
    "        moves.append(random.choice([0, 1, 2, 3], p=tempSched[moves[i]]))\n",
    "\n",
    "    # Run simulation\n",
    "    avg_return, risk, sharpe = simulate_driver(moves)\n",
    "    \n",
    "    # Limit to -3 <= sharpe <= 3\n",
    "    sharpe = max(-3, min(3, sharpe))\n",
    "\n",
    "    # whether or update R+ or R- \n",
    "    index = 1 if (sharpe < SUCCESS_THRESHOLD) else 0\n",
    "\n",
    "    # Reinforcement feedback\n",
    "    R = zeros((2, 4, 4))\n",
    "    for i in range(len(moves) - 1):\n",
    "        state, action = moves[i:i+2]\n",
    "\n",
    "        R[index][state][action] += 1\n",
    "\n",
    "    return R"
   ]
  },
  {
   "cell_type": "code",
   "execution_count": 7,
   "metadata": {
    "collapsed": true
   },
   "outputs": [],
   "source": [
    "jobs = range(4)\n",
    "CS = partial(callSimulation, scheduler)\n",
    "pool = mp.Pool()"
   ]
  },
  {
   "cell_type": "code",
   "execution_count": null,
   "metadata": {
    "collapsed": true
   },
   "outputs": [],
   "source": [
    " R_RES = pool.map(callSimulation, jobs)"
   ]
  }
 ],
 "metadata": {
  "kernelspec": {
   "display_name": "Python 3",
   "language": "python",
   "name": "python3"
  },
  "language_info": {
   "codemirror_mode": {
    "name": "ipython",
    "version": 3
   },
   "file_extension": ".py",
   "mimetype": "text/x-python",
   "name": "python",
   "nbconvert_exporter": "python",
   "pygments_lexer": "ipython3",
   "version": "3.6.0"
  }
 },
 "nbformat": 4,
 "nbformat_minor": 2
}
